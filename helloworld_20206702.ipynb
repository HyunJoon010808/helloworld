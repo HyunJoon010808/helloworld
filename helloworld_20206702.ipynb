{
  "nbformat": 4,
  "nbformat_minor": 0,
  "metadata": {
    "colab": {
      "name": "helloworld_20206702.ipynb",
      "provenance": [],
      "authorship_tag": "ABX9TyP2K3zlfsoRoT8M6vexTe8w",
      "include_colab_link": true
    },
    "kernelspec": {
      "name": "python3",
      "display_name": "Python 3"
    }
  },
  "cells": [
    {
      "cell_type": "markdown",
      "metadata": {
        "id": "view-in-github",
        "colab_type": "text"
      },
      "source": [
        "<a href=\"https://colab.research.google.com/github/HyunJoon010808/helloworld/blob/main/helloworld_20206702.ipynb\" target=\"_parent\"><img src=\"https://colab.research.google.com/assets/colab-badge.svg\" alt=\"Open In Colab\"/></a>"
      ]
    },
    {
      "cell_type": "code",
      "metadata": {
        "id": "W3X5f25D5W59",
        "outputId": "79f7faed-a32d-4b8c-eb6c-f760fc3f99cb",
        "colab": {
          "base_uri": "https://localhost:8080/",
          "height": 35
        }
      },
      "source": [
        "print('helloworld', 20206702)"
      ],
      "execution_count": 1,
      "outputs": [
        {
          "output_type": "stream",
          "text": [
            "helloworld 20206702\n"
          ],
          "name": "stdout"
        }
      ]
    }
  ]
}